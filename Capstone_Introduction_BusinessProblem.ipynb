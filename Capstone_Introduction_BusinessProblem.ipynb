{
 "cells": [
  {
   "cell_type": "markdown",
   "metadata": {},
   "source": [
    "## Introduction / Business Problem"
   ]
  },
  {
   "cell_type": "markdown",
   "metadata": {},
   "source": [
    "##### Description of problem\n",
    "As a small city state with a population of close to 6 million, Singapore has grown from third to first world in the matter of a few decades and currently have the 7th highest GDP per capita in the world. \n",
    "\n",
    "Knowing that Singapore is unique with its multi-cultural character where food is one of the defining features of the country, coupled with the fact that Singapore's is wealthy and has a stable government, a wealthy group of investors from Japan is thus looking to expand their presence Internationally and is looking at Singapore as their first overseas venture, to open an upscale Japanese restuarant that serves premium, authentic Japanese food where Japanese food is highly favoured amongst diners.\n",
    "\n",
    "As part of their efforts to expand, I have been tasked to determine the best location in Singapore to set up shop based on the criteria identified by the investors."
   ]
  }
 ],
 "metadata": {
  "kernelspec": {
   "display_name": "Python",
   "language": "python",
   "name": "conda-env-python-py"
  },
  "language_info": {
   "codemirror_mode": {
    "name": "ipython",
    "version": 3
   },
   "file_extension": ".py",
   "mimetype": "text/x-python",
   "name": "python",
   "nbconvert_exporter": "python",
   "pygments_lexer": "ipython3",
   "version": "3.6.10"
  }
 },
 "nbformat": 4,
 "nbformat_minor": 4
}
