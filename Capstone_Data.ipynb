{
 "cells": [
  {
   "cell_type": "markdown",
   "metadata": {},
   "source": [
    "## Data"
   ]
  },
  {
   "cell_type": "markdown",
   "metadata": {},
   "source": [
    "##### Description of Data Requirements\n",
    "To accomplish my goal, I will first get a list of districts in Singapore as well as income data from **GenHouseholdSurvey2015.csv** downloaded from the Department of Statistics Singapore with information about Resident Households by District and Monthly Household Income from Work. This will help us identify the districts in Singapore with higher income levels which are the target audience of the restaurant.\n",
    "\n",
    "In addition, I will leverage the Foursquare API to find out information about the popularity of different food venues in Singapore. This will assist me to discover each district's preferences of venues, so that I can cross refer income information as well as food venue preference information to determine the best place to set up the restaurant. "
   ]
  },
  {
   "cell_type": "code",
   "execution_count": null,
   "metadata": {},
   "outputs": [],
   "source": []
  }
 ],
 "metadata": {
  "kernelspec": {
   "display_name": "Python",
   "language": "python",
   "name": "conda-env-python-py"
  },
  "language_info": {
   "codemirror_mode": {
    "name": "ipython",
    "version": 3
   },
   "file_extension": ".py",
   "mimetype": "text/x-python",
   "name": "python",
   "nbconvert_exporter": "python",
   "pygments_lexer": "ipython3",
   "version": "3.6.10"
  }
 },
 "nbformat": 4,
 "nbformat_minor": 4
}
